{
 "cells": [
  {
   "cell_type": "markdown",
   "id": "01a36c51",
   "metadata": {},
   "source": [
    "# Análise Exploratória da Base de Compras (POC Inovamed)\n",
    "Este notebook tem como objetivo explorar a base de dados enviada e entender padrões, correlações e dados faltantes. Isso servirá de base para a modelagem preditiva no Skyone Studio.\n"
   ]
  },
  {
   "cell_type": "code",
   "execution_count": 2,
   "id": "b440f1c7",
   "metadata": {},
   "outputs": [],
   "source": [
    "import pandas as pd\n",
    "import numpy as np\n",
    "import matplotlib.pyplot as plt\n",
    "import seaborn as sns\n",
    "\n",
    "%matplotlib inline\n"
   ]
  },
  {
   "cell_type": "code",
   "execution_count": null,
   "id": "abe981c9-9794-4271-815a-e360d1604d02",
   "metadata": {},
   "outputs": [],
   "source": [
    "# Caminho absoluto do arquivo\n",
    "file_path = r'C:\\Skyone 2025\\POCs Skyone\\Inovamed\\Base de Dados Compras IA.xlsx'\n",
    "\n",
    "# Leitura da planilha\n",
    "df = pd.read_excel(file_path, sheet_name='Planilha de Compras')\n",
    "\n",
    "# Primeiras linhas\n",
    "df.head()\n"
   ]
  }
 ],
 "metadata": {
  "kernelspec": {
   "display_name": "Python 3 (ipykernel)",
   "language": "python",
   "name": "python3"
  },
  "language_info": {
   "codemirror_mode": {
    "name": "ipython",
    "version": 3
   },
   "file_extension": ".py",
   "mimetype": "text/x-python",
   "name": "python",
   "nbconvert_exporter": "python",
   "pygments_lexer": "ipython3",
   "version": "3.11.9"
  }
 },
 "nbformat": 4,
 "nbformat_minor": 5
}
